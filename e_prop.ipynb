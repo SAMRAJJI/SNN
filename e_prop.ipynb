{
 "cells": [
  {
   "cell_type": "code",
   "execution_count": 2,
   "id": "ef4bc797",
   "metadata": {},
   "outputs": [
    {
     "name": "stderr",
     "output_type": "stream",
     "text": [
      "100.0%\n",
      "100.0%\n",
      "100.0%\n",
      "100.0%\n"
     ]
    },
    {
     "ename": "ValueError",
     "evalue": "The post-synaptic variable 'I' has the same name as a synaptic variable, rename the synaptic variable.(for example to 'I_syn') to avoid confusion",
     "output_type": "error",
     "traceback": [
      "\u001b[31m---------------------------------------------------------------------------\u001b[39m",
      "\u001b[31mValueError\u001b[39m                                Traceback (most recent call last)",
      "\u001b[36mCell\u001b[39m\u001b[36m \u001b[39m\u001b[32mIn[2]\u001b[39m\u001b[32m, line 31\u001b[39m\n\u001b[32m     28\u001b[39m output = NeuronGroup(N_out, eqs, threshold=\u001b[33m'\u001b[39m\u001b[33mv>1\u001b[39m\u001b[33m'\u001b[39m, reset=\u001b[33m'\u001b[39m\u001b[33mv=0\u001b[39m\u001b[33m'\u001b[39m, refractory=\u001b[32m5\u001b[39m*ms, method=\u001b[33m'\u001b[39m\u001b[33meuler\u001b[39m\u001b[33m'\u001b[39m)\n\u001b[32m     30\u001b[39m \u001b[38;5;66;03m# Synapses with eligibility traces\u001b[39;00m\n\u001b[32m---> \u001b[39m\u001b[32m31\u001b[39m S_in = \u001b[43mSynapses\u001b[49m\u001b[43m(\u001b[49m\u001b[43minput_group\u001b[49m\u001b[43m,\u001b[49m\u001b[43m \u001b[49m\u001b[43mhidden\u001b[49m\u001b[43m,\u001b[49m\u001b[43m \u001b[49m\u001b[43mmodel\u001b[49m\u001b[43m=\u001b[49m\u001b[33;43m'''\u001b[39;49m\n\u001b[32m     32\u001b[39m \u001b[33;43m                w : 1\u001b[39;49m\n\u001b[32m     33\u001b[39m \u001b[33;43m                e_trace : 1\u001b[39;49m\n\u001b[32m     34\u001b[39m \u001b[33;43m                dI/dt = -I/tau : 1 (clock-driven)\u001b[39;49m\n\u001b[32m     35\u001b[39m \u001b[33;43m                \u001b[39;49m\u001b[33;43m'''\u001b[39;49m\u001b[43m,\u001b[49m\n\u001b[32m     36\u001b[39m \u001b[43m                \u001b[49m\u001b[43mon_pre\u001b[49m\u001b[43m=\u001b[49m\u001b[33;43m'''\u001b[39;49m\n\u001b[32m     37\u001b[39m \u001b[33;43m                I_post += w\u001b[39;49m\n\u001b[32m     38\u001b[39m \u001b[33;43m                e_trace += 1.0\u001b[39;49m\n\u001b[32m     39\u001b[39m \u001b[33;43m                \u001b[39;49m\u001b[33;43m'''\u001b[39;49m\u001b[43m)\u001b[49m\n\u001b[32m     40\u001b[39m S_in.connect(p=\u001b[32m0.1\u001b[39m)\n\u001b[32m     41\u001b[39m S_in.w = \u001b[33m'\u001b[39m\u001b[33m0.2*rand()\u001b[39m\u001b[33m'\u001b[39m\n",
      "\u001b[36mFile \u001b[39m\u001b[32m/usr/local/python/3.12.1/lib/python3.12/site-packages/brian2/synapses/synapses.py:949\u001b[39m, in \u001b[36mSynapses.__init__\u001b[39m\u001b[34m(self, source, target, model, on_pre, pre, on_post, post, connect, delay, on_event, multisynaptic_index, namespace, dtype, codeobj_class, dt, clock, order, method, method_options, name)\u001b[39m\n\u001b[32m    945\u001b[39m     \u001b[38;5;28mself\u001b[39m.event_driven = \u001b[38;5;28;01mNone\u001b[39;00m\n\u001b[32m    947\u001b[39m \u001b[38;5;28mself\u001b[39m._linked_variables = \u001b[38;5;28mset\u001b[39m()\n\u001b[32m--> \u001b[39m\u001b[32m949\u001b[39m \u001b[38;5;28;43mself\u001b[39;49m\u001b[43m.\u001b[49m\u001b[43m_create_variables\u001b[49m\u001b[43m(\u001b[49m\u001b[43mmodel\u001b[49m\u001b[43m,\u001b[49m\u001b[43m \u001b[49m\u001b[43muser_dtype\u001b[49m\u001b[43m=\u001b[49m\u001b[43mdtype\u001b[49m\u001b[43m)\u001b[49m\n\u001b[32m    950\u001b[39m \u001b[38;5;28mself\u001b[39m.equations = Equations(continuous)\n\u001b[32m    952\u001b[39m \u001b[38;5;66;03m#: Set of `Variable` objects that should be resized when the\u001b[39;00m\n\u001b[32m    953\u001b[39m \u001b[38;5;66;03m#: number of synapses changes\u001b[39;00m\n",
      "\u001b[36mFile \u001b[39m\u001b[32m/usr/local/python/3.12.1/lib/python3.12/site-packages/brian2/synapses/synapses.py:1472\u001b[39m, in \u001b[36mSynapses._create_variables\u001b[39m\u001b[34m(self, equations, user_dtype)\u001b[39m\n\u001b[32m   1470\u001b[39m         error_msg += \u001b[33mf\u001b[39m\u001b[33m\"\u001b[39m\u001b[33m(for example to \u001b[39m\u001b[33m'\u001b[39m\u001b[38;5;132;01m{\u001b[39;00mname\u001b[38;5;132;01m}\u001b[39;00m\u001b[33m_syn\u001b[39m\u001b[33m'\u001b[39m\u001b[33m) \u001b[39m\u001b[33m\"\u001b[39m\n\u001b[32m   1471\u001b[39m     error_msg += \u001b[33m\"\u001b[39m\u001b[33mto avoid confusion\u001b[39m\u001b[33m\"\u001b[39m\n\u001b[32m-> \u001b[39m\u001b[32m1472\u001b[39m     \u001b[38;5;28;01mraise\u001b[39;00m \u001b[38;5;167;01mValueError\u001b[39;00m(error_msg)\n\u001b[32m   1473\u001b[39m \u001b[38;5;28;01mif\u001b[39;00m name.startswith(\u001b[33m\"\u001b[39m\u001b[33m_\u001b[39m\u001b[33m\"\u001b[39m):\n\u001b[32m   1474\u001b[39m     \u001b[38;5;28;01mcontinue\u001b[39;00m  \u001b[38;5;66;03m# Do not add internal variables\u001b[39;00m\n",
      "\u001b[31mValueError\u001b[39m: The post-synaptic variable 'I' has the same name as a synaptic variable, rename the synaptic variable.(for example to 'I_syn') to avoid confusion"
     ]
    }
   ],
   "source": [
    "from brian2 import *\n",
    "import torchvision\n",
    "import torchvision.transforms as transforms\n",
    "\n",
    "# ----------------------------\n",
    "# Dataset (MNIST -> small subset for speed)\n",
    "# ----------------------------\n",
    "transform = transforms.Compose([\n",
    "    transforms.ToTensor(),\n",
    "    transforms.Lambda(lambda x: x.view(-1)) # flatten\n",
    "])\n",
    "mnist = torchvision.datasets.MNIST(root=\"./data\", train=True, download=True, transform=transform)\n",
    "data, targets = mnist.data[:1000].float()/255.0, mnist.targets[:1000]  # subset\n",
    "\n",
    "# ----------------------------\n",
    "# Neuron model (LIF)\n",
    "# ----------------------------\n",
    "N_in, N_hidden, N_out = 784, 200, 10\n",
    "\n",
    "tau = 10*ms\n",
    "eqs = '''\n",
    "dv/dt = (-v + I)/tau : 1 (unless refractory)\n",
    "I : 1\n",
    "'''\n",
    "\n",
    "input_group = SpikeGeneratorGroup(N_in, [], []*ms)\n",
    "hidden = NeuronGroup(N_hidden, eqs, threshold='v>1', reset='v=0', refractory=5*ms, method='euler')\n",
    "output = NeuronGroup(N_out, eqs, threshold='v>1', reset='v=0', refractory=5*ms, method='euler')\n",
    "\n",
    "# Synapses with eligibility traces\n",
    "S_in = Synapses(input_group, hidden, model='''\n",
    "                w : 1\n",
    "                e_trace : 1\n",
    "                dI/dt = -I/tau : 1 (clock-driven)\n",
    "                ''',\n",
    "                on_pre='''\n",
    "                I_post += w\n",
    "                e_trace += 1.0\n",
    "                ''')\n",
    "S_in.connect(p=0.1)\n",
    "S_in.w = '0.2*rand()'\n",
    "\n",
    "S_hid = Synapses(hidden, output, model='''\n",
    "                w : 1\n",
    "                e_trace : 1\n",
    "                dI/dt = -I/tau : 1 (clock-driven)\n",
    "                ''',\n",
    "                on_pre='''\n",
    "                I_post += w\n",
    "                e_trace += 1.0\n",
    "                ''')\n",
    "S_hid.connect(p=0.1)\n",
    "S_hid.w = '0.2*rand()'\n",
    "\n",
    "# ----------------------------\n",
    "# e-prop weight update rule\n",
    "# ----------------------------\n",
    "@network_operation(dt=10*ms)\n",
    "def eprop_update():\n",
    "    lr = 1e-3\n",
    "    # simple local error: output spikes - target\n",
    "    for i in range(N_out):\n",
    "        error = (output.v[i] - 0.5)  # placeholder error term\n",
    "        S_hid.w[i] -= lr * error * S_hid.e_trace[i]\n",
    "\n",
    "# ----------------------------\n",
    "# Run simulation for one sample\n",
    "# ----------------------------\n",
    "net = Network(collect())\n",
    "net.add(eprop_update)\n",
    "net.run(100*ms)\n"
   ]
  }
 ],
 "metadata": {
  "kernelspec": {
   "display_name": "Python 3",
   "language": "python",
   "name": "python3"
  },
  "language_info": {
   "codemirror_mode": {
    "name": "ipython",
    "version": 3
   },
   "file_extension": ".py",
   "mimetype": "text/x-python",
   "name": "python",
   "nbconvert_exporter": "python",
   "pygments_lexer": "ipython3",
   "version": "3.12.1"
  }
 },
 "nbformat": 4,
 "nbformat_minor": 5
}
