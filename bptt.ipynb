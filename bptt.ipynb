{
 "cells": [
  {
   "cell_type": "code",
   "execution_count": 14,
   "id": "6bf3cccf",
   "metadata": {},
   "outputs": [
    {
     "ename": "ModuleNotFoundError",
     "evalue": "No module named 'torch._dynamo'",
     "output_type": "error",
     "traceback": [
      "\u001b[31m---------------------------------------------------------------------------\u001b[39m",
      "\u001b[31mModuleNotFoundError\u001b[39m                       Traceback (most recent call last)",
      "\u001b[36mCell\u001b[39m\u001b[36m \u001b[39m\u001b[32mIn[14]\u001b[39m\u001b[32m, line 24\u001b[39m\n\u001b[32m     21\u001b[39m net = SNN_BPTT().to(device)\n\u001b[32m     23\u001b[39m \u001b[38;5;66;03m# Optimizer and loss\u001b[39;00m\n\u001b[32m---> \u001b[39m\u001b[32m24\u001b[39m optimizer = \u001b[43mtorch\u001b[49m\u001b[43m.\u001b[49m\u001b[43moptim\u001b[49m\u001b[43m.\u001b[49m\u001b[43mAdam\u001b[49m\u001b[43m(\u001b[49m\u001b[43mnet\u001b[49m\u001b[43m.\u001b[49m\u001b[43mparameters\u001b[49m\u001b[43m(\u001b[49m\u001b[43m)\u001b[49m\u001b[43m,\u001b[49m\u001b[43m \u001b[49m\u001b[43mlr\u001b[49m\u001b[43m=\u001b[49m\u001b[32;43m1e-3\u001b[39;49m\u001b[43m)\u001b[49m\n\u001b[32m     25\u001b[39m loss_fn = nn.CrossEntropyLoss()\n\u001b[32m     27\u001b[39m \u001b[38;5;66;03m# Dummy dataset (replace with your actual data)\u001b[39;00m\n\u001b[32m     28\u001b[39m \u001b[38;5;66;03m# Suppose input size = 10, output classes = 2\u001b[39;00m\n",
      "\u001b[36mFile \u001b[39m\u001b[32m~/.local/lib/python3.12/site-packages/torch/optim/adam.py:100\u001b[39m, in \u001b[36m__init__\u001b[39m\u001b[34m(self, params, lr, betas, eps, weight_decay, amsgrad, foreach, maximize, capturable, differentiable, fused, decoupled_weight_decay)\u001b[39m\n",
      "\u001b[36mFile \u001b[39m\u001b[32m~/.local/lib/python3.12/site-packages/torch/optim/optimizer.py:369\u001b[39m, in \u001b[36m__init__\u001b[39m\u001b[34m(self, params, defaults)\u001b[39m\n",
      "\u001b[36mFile \u001b[39m\u001b[32m~/.local/lib/python3.12/site-packages/torch/_compile.py:46\u001b[39m, in \u001b[36minner\u001b[39m\u001b[34m(*args, **kwargs)\u001b[39m\n",
      "\u001b[31mModuleNotFoundError\u001b[39m: No module named 'torch._dynamo'"
     ]
    }
   ],
   "source": [
    "import torch\n",
    "import torch.nn as nn\n",
    "import torch.nn.functional as F\n",
    "\n",
    "# Use CPU (Codespaces doesn't have CUDA GPU)\n",
    "device = torch.device(\"cpu\")\n",
    "\n",
    "# Example SNN model (replace with your actual SNN_BPTT)\n",
    "class SNN_BPTT(nn.Module):\n",
    "    def __init__(self, input_size=10, hidden_size=20, output_size=2):\n",
    "        super(SNN_BPTT, self).__init__()\n",
    "        self.fc1 = nn.Linear(input_size, hidden_size)\n",
    "        self.fc2 = nn.Linear(hidden_size, output_size)\n",
    "\n",
    "    def forward(self, x):\n",
    "        x = F.relu(self.fc1(x))\n",
    "        x = self.fc2(x)\n",
    "        return x\n",
    "\n",
    "# Initialize network and move to device\n",
    "net = SNN_BPTT().to(device)\n",
    "\n",
    "# Optimizer and loss\n",
    "optimizer = torch.optim.Adam(net.parameters(), lr=1e-3)\n",
    "loss_fn = nn.CrossEntropyLoss()\n",
    "\n",
    "# Dummy dataset (replace with your actual data)\n",
    "# Suppose input size = 10, output classes = 2\n",
    "inputs = torch.randn(5, 10).to(device)   # batch of 5\n",
    "labels = torch.randint(0, 2, (5,)).to(device)\n",
    "\n",
    "# Training loop (1 epoch example)\n",
    "for epoch in range(1):\n",
    "    optimizer.zero_grad()             # reset gradients\n",
    "    outputs = net(inputs)             # forward pass\n",
    "    loss = loss_fn(outputs, labels)   # compute loss\n",
    "    loss.backward()                   # backward pass\n",
    "    optimizer.step()                  # update weights\n",
    "    print(f\"Epoch {epoch+1}, Loss: {loss.item():.4f}\")\n",
    "\n",
    "print(\"Training step completed successfully on CPU!\")\n"
   ]
  },
  {
   "cell_type": "code",
   "execution_count": 6,
   "id": "30191609",
   "metadata": {},
   "outputs": [
    {
     "name": "stdout",
     "output_type": "stream",
     "text": [
      "2.7.1+cpu\n"
     ]
    }
   ],
   "source": [
    "import torch\n",
    "print(torch.__version__)\n"
   ]
  },
  {
   "cell_type": "code",
   "execution_count": 8,
   "id": "7b57eaf0",
   "metadata": {},
   "outputs": [
    {
     "name": "stdout",
     "output_type": "stream",
     "text": [
      "/home/codespace/.python/current/bin/python\n",
      "/home/codespace/.python/current/bin/python\n"
     ]
    }
   ],
   "source": [
    "import sys\n",
    "print(sys.executable)\n",
    "!which python\n"
   ]
  },
  {
   "cell_type": "code",
   "execution_count": 10,
   "id": "9a7a8486",
   "metadata": {},
   "outputs": [
    {
     "name": "stdout",
     "output_type": "stream",
     "text": [
      "2.7.1+cpu\n"
     ]
    },
    {
     "ename": "ModuleNotFoundError",
     "evalue": "No module named 'torch._dynamo'",
     "output_type": "error",
     "traceback": [
      "\u001b[31m---------------------------------------------------------------------------\u001b[39m",
      "\u001b[31mModuleNotFoundError\u001b[39m                       Traceback (most recent call last)",
      "\u001b[36mCell\u001b[39m\u001b[36m \u001b[39m\u001b[32mIn[10]\u001b[39m\u001b[32m, line 5\u001b[39m\n\u001b[32m      2\u001b[39m \u001b[38;5;28mprint\u001b[39m(torch.__version__)  \u001b[38;5;66;03m# Should print 2.8.0+cpu\u001b[39;00m\n\u001b[32m      4\u001b[39m \u001b[38;5;66;03m# Test torch._dynamo\u001b[39;00m\n\u001b[32m----> \u001b[39m\u001b[32m5\u001b[39m \u001b[38;5;28;01mimport\u001b[39;00m\u001b[38;5;250m \u001b[39m\u001b[34;01mtorch\u001b[39;00m\u001b[34;01m.\u001b[39;00m\u001b[34;01m_dynamo\u001b[39;00m\n\u001b[32m      6\u001b[39m \u001b[38;5;28mprint\u001b[39m(\u001b[33m\"\u001b[39m\u001b[33mtorch._dynamo is available!\u001b[39m\u001b[33m\"\u001b[39m)\n\u001b[32m      8\u001b[39m \u001b[38;5;66;03m# Minimal test for your optimizer\u001b[39;00m\n",
      "\u001b[31mModuleNotFoundError\u001b[39m: No module named 'torch._dynamo'"
     ]
    }
   ],
   "source": [
    "import torch\n",
    "print(torch.__version__)  # Should print 2.8.0+cpu\n",
    "\n",
    "# Test torch._dynamo\n",
    "import torch._dynamo\n",
    "print(\"torch._dynamo is available!\")\n",
    "\n",
    "# Minimal test for your optimizer\n",
    "import torch.nn as nn\n",
    "\n",
    "class DummyNet(nn.Module):\n",
    "    def __init__(self):\n",
    "        super().__init__()\n",
    "        self.fc = nn.Linear(10, 2)\n",
    "    def forward(self, x):\n",
    "        return self.fc(x)\n",
    "\n",
    "net = DummyNet()\n",
    "optimizer = torch.optim.Adam(net.parameters(), lr=1e-3)\n",
    "print(\"Adam optimizer works!\")\n"
   ]
  }
 ],
 "metadata": {
  "kernelspec": {
   "display_name": "Python 3",
   "language": "python",
   "name": "python3"
  },
  "language_info": {
   "codemirror_mode": {
    "name": "ipython",
    "version": 3
   },
   "file_extension": ".py",
   "mimetype": "text/x-python",
   "name": "python",
   "nbconvert_exporter": "python",
   "pygments_lexer": "ipython3",
   "version": "3.12.1"
  }
 },
 "nbformat": 4,
 "nbformat_minor": 5
}
