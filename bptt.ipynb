{
 "cells": [
  {
   "cell_type": "code",
   "execution_count": 1,
   "id": "6bf3cccf",
   "metadata": {},
   "outputs": [
    {
     "name": "stdout",
     "output_type": "stream",
     "text": [
      "Epoch 1, Loss: 0.7185\n",
      "Training step completed successfully on CPU!\n"
     ]
    }
   ],
   "source": [
    "import torch\n",
    "import torch.nn as nn\n",
    "import torch.nn.functional as F\n",
    "\n",
    "# Use CPU (Codespaces doesn't have CUDA GPU)\n",
    "device = torch.device(\"cpu\")\n",
    "\n",
    "# Example SNN model (replace with your actual SNN_BPTT)\n",
    "class SNN_BPTT(nn.Module):\n",
    "    def __init__(self, input_size=10, hidden_size=20, output_size=2):\n",
    "        super(SNN_BPTT, self).__init__()\n",
    "        self.fc1 = nn.Linear(input_size, hidden_size)\n",
    "        self.fc2 = nn.Linear(hidden_size, output_size)\n",
    "\n",
    "    def forward(self, x):\n",
    "        x = F.relu(self.fc1(x))\n",
    "        x = self.fc2(x)\n",
    "        return x\n",
    "\n",
    "# Initialize network and move to device\n",
    "net = SNN_BPTT().to(device)\n",
    "\n",
    "# Optimizer and loss\n",
    "optimizer = torch.optim.Adam(net.parameters(), lr=1e-3)\n",
    "loss_fn = nn.CrossEntropyLoss()\n",
    "\n",
    "# Dummy dataset (replace with your actual data)\n",
    "# Suppose input size = 10, output classes = 2\n",
    "inputs = torch.randn(5, 10).to(device)   # batch of 5\n",
    "labels = torch.randint(0, 2, (5,)).to(device)\n",
    "\n",
    "# Training loop (1 epoch example)\n",
    "for epoch in range(1):\n",
    "    optimizer.zero_grad()             # reset gradients\n",
    "    outputs = net(inputs)             # forward pass\n",
    "    loss = loss_fn(outputs, labels)   # compute loss\n",
    "    loss.backward()                   # backward pass\n",
    "    optimizer.step()                  # update weights\n",
    "    print(f\"Epoch {epoch+1}, Loss: {loss.item():.4f}\")\n",
    "\n",
    "print(\"Training step completed successfully on CPU!\")\n"
   ]
  },
  {
   "cell_type": "code",
   "execution_count": 2,
   "id": "30191609",
   "metadata": {},
   "outputs": [
    {
     "name": "stdout",
     "output_type": "stream",
     "text": [
      "2.7.1+cpu\n"
     ]
    }
   ],
   "source": [
    "import torch\n",
    "print(torch.__version__)\n"
   ]
  },
  {
   "cell_type": "code",
   "execution_count": 3,
   "id": "7b57eaf0",
   "metadata": {},
   "outputs": [
    {
     "name": "stdout",
     "output_type": "stream",
     "text": [
      "/home/codespace/.python/current/bin/python\n",
      "/home/codespace/.python/current/bin/python\n"
     ]
    }
   ],
   "source": [
    "import sys\n",
    "print(sys.executable)\n",
    "!which python\n"
   ]
  },
  {
   "cell_type": "code",
   "execution_count": 5,
   "id": "9a7a8486",
   "metadata": {},
   "outputs": [
    {
     "name": "stdout",
     "output_type": "stream",
     "text": [
      "2.7.1+cpu\n",
      "torch._dynamo is available!\n",
      "Adam optimizer works!\n"
     ]
    }
   ],
   "source": [
    "import torch\n",
    "print(torch.__version__)  # Should print 2.8.0+cpu\n",
    "# Test torch._dynamo\n",
    "import torch._dynamo\n",
    "print(\"torch._dynamo is available!\")\n",
    "# Minimal test for your optimizer\n",
    "import torch.nn as nn\n",
    "class DummyNet(nn.Module):\n",
    "    def __init__(self):\n",
    "        super().__init__()\n",
    "        self.fc = nn.Linear(10, 2)\n",
    "    def forward(self, x):\n",
    "        return self.fc(x)\n",
    "net = DummyNet()\n",
    "optimizer = torch.optim.Adam(net.parameters(), lr=1e-3)\n",
    "print(\"Adam optimizer works!\")"
   ]
  }
 ],
 "metadata": {
  "kernelspec": {
   "display_name": "Python 3",
   "language": "python",
   "name": "python3"
  },
  "language_info": {
   "codemirror_mode": {
    "name": "ipython",
    "version": 3
   },
   "file_extension": ".py",
   "mimetype": "text/x-python",
   "name": "python",
   "nbconvert_exporter": "python",
   "pygments_lexer": "ipython3",
   "version": "3.12.1"
  }
 },
 "nbformat": 4,
 "nbformat_minor": 5
}
